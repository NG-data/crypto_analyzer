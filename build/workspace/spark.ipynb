{
 "cells": [
  {
   "cell_type": "markdown",
   "id": "3d917b56",
   "metadata": {},
   "source": [
    "### Start SparkSession"
   ]
  },
  {
   "cell_type": "code",
   "execution_count": 1,
   "id": "e6a8177e",
   "metadata": {
    "scrolled": true
   },
   "outputs": [
    {
     "name": "stderr",
     "output_type": "stream",
     "text": [
      "25/07/25 06:29:05 WARN NativeCodeLoader: Unable to load native-hadoop library for your platform... using builtin-java classes where applicable\n",
      "Using Spark's default log4j profile: org/apache/spark/log4j-defaults.properties\n",
      "Setting default log level to \"WARN\".\n",
      "To adjust logging level use sc.setLogLevel(newLevel). For SparkR, use setLogLevel(newLevel).\n"
     ]
    },
    {
     "name": "stdout",
     "output_type": "stream",
     "text": [
      "Активные Spark сессии: http://b26e130c294d:4040\n"
     ]
    }
   ],
   "source": [
    "from pyspark.sql import SparkSession\n",
    "import pyspark.sql.functions as F\n",
    "\n",
    "\n",
    "spark = SparkSession \\\n",
    "            .builder \\\n",
    "            .appName(\"halltape_pyspark_local\") \\\n",
    "            .master(\"spark://spark-master:7077\") \\\n",
    "    .getOrCreate()\n",
    "\n",
    "\n",
    "print(\"Активные Spark сессии:\", spark.sparkContext.uiWebUrl)"
   ]
  },
  {
   "cell_type": "markdown",
   "id": "c3c3856f",
   "metadata": {},
   "source": [
    "### Read"
   ]
  },
  {
   "cell_type": "code",
   "execution_count": 2,
   "id": "52ff0d69",
   "metadata": {},
   "outputs": [],
   "source": [
    "PATH = 'data/customs_data.csv'"
   ]
  },
  {
   "cell_type": "code",
   "execution_count": 11,
   "id": "19ea3ae9",
   "metadata": {},
   "outputs": [
    {
     "name": "stdout",
     "output_type": "stream",
     "text": [
      "+--------------------+\n",
      "|                 _c0|\n",
      "+--------------------+\n",
      "|month;country;cod...|\n",
      "|01/2016;IT;620469...|\n",
      "|01/2016;CN;900190...|\n",
      "|01/2016;BY;841430...|\n",
      "|01/2016;US;901850...|\n",
      "|01/2016;EE;902110...|\n",
      "|01/2016;FR;381600...|\n",
      "|01/2016;MX;852351...|\n",
      "|01/2016;JP;620452...|\n",
      "|01/2016;KR;611020...|\n",
      "|01/2016;KG;852713...|\n",
      "|01/2016;ZA;842123...|\n",
      "|01/2016;CN;851810...|\n",
      "|01/2016;TR;841790...|\n",
      "|01/2016;IT;390610...|\n",
      "|01/2016;CZ;870840...|\n",
      "|01/2016;ES;640419...|\n",
      "|01/2016;IT;940490...|\n",
      "|01/2016;UA;820780...|\n",
      "|01/2016;CN;330410...|\n",
      "+--------------------+\n",
      "only showing top 20 rows\n",
      "\n"
     ]
    }
   ],
   "source": [
    "spark.read.csv(PATH).show()"
   ]
  },
  {
   "cell_type": "code",
   "execution_count": 29,
   "id": "5341aedd",
   "metadata": {},
   "outputs": [
    {
     "name": "stdout",
     "output_type": "stream",
     "text": [
      "+-------+-------+----------+------+------+--------+------+--------+-------------+-----------+--------------------+\n",
      "|  month|country|      code| value| netto|quantity|region|district|direction_eng|measure_eng|           load_date|\n",
      "+-------+-------+----------+------+------+--------+------+--------+-------------+-----------+--------------------+\n",
      "|01/2016|     IT|6204695000|   131|     1|       7| 46000|      01|           IM|        ShT|2024-07-01T00:00:...|\n",
      "|01/2016|     CN|9001900009|112750|    18|       0| 46000|      01|           IM|          1|2024-01-01T00:00:...|\n",
      "|01/2016|     BY|8414302004|   392|    57|       8| 50000|      06|           IM|        ShT|2024-06-01T00:00:...|\n",
      "|01/2016|     US|9018509000| 54349|   179|       0| 40000|      02|           IM|          1|2024-04-01T00:00:...|\n",
      "|01/2016|     EE|9021101000| 17304|   372|       0| 46000|      01|           IM|          1|2024-02-01T00:00:...|\n",
      "|01/2016|     FR|3816000000|323488|253600|       0| 40000|      02|           IM|          1|2024-02-01T00:00:...|\n",
      "|01/2016|     MX|8523519300|  1611|     0|       4| 40000|      02|           IM|        ShT|2024-04-01T00:00:...|\n",
      "|01/2016|     JP|6204520000|    29|     1|       2| 46000|      01|           IM|        ShT|2024-02-01T00:00:...|\n",
      "|01/2016|     KR|6110209100|   815|     2|       5| 46000|      01|           IM|        ShT|2024-01-01T00:00:...|\n",
      "|01/2016|     KG|8527139900| 11868|  2127|    2630| 46000|      01|           IM|        ShT|2024-06-01T00:00:...|\n",
      "+-------+-------+----------+------+------+--------+------+--------+-------------+-----------+--------------------+\n",
      "only showing top 10 rows\n",
      "\n"
     ]
    }
   ],
   "source": [
    "spark.read.csv(PATH, sep=';', header=True).show(10)"
   ]
  },
  {
   "cell_type": "code",
   "execution_count": 3,
   "id": "225a66d3",
   "metadata": {},
   "outputs": [
    {
     "name": "stderr",
     "output_type": "stream",
     "text": [
      "                                                                                \r"
     ]
    }
   ],
   "source": [
    "df = spark.read.csv(PATH, sep=';', header=True)\n"
   ]
  },
  {
   "cell_type": "code",
   "execution_count": 4,
   "id": "37edf11e",
   "metadata": {},
   "outputs": [
    {
     "name": "stderr",
     "output_type": "stream",
     "text": [
      "[Stage 1:>                                                          (0 + 1) / 1]\r"
     ]
    },
    {
     "name": "stdout",
     "output_type": "stream",
     "text": [
      "+-------+-------+----------+------+------+--------+------+--------+-------------+-----------+-----------------------------+\n",
      "|month  |country|code      |value |netto |quantity|region|district|direction_eng|measure_eng|load_date                    |\n",
      "+-------+-------+----------+------+------+--------+------+--------+-------------+-----------+-----------------------------+\n",
      "|01/2016|IT     |6204695000|131   |1     |7       |46000 |01      |IM           |ShT        |2024-07-01T00:00:00.000+03:00|\n",
      "|01/2016|CN     |9001900009|112750|18    |0       |46000 |01      |IM           |1          |2024-01-01T00:00:00.000+03:00|\n",
      "|01/2016|BY     |8414302004|392   |57    |8       |50000 |06      |IM           |ShT        |2024-06-01T00:00:00.000+03:00|\n",
      "|01/2016|US     |9018509000|54349 |179   |0       |40000 |02      |IM           |1          |2024-04-01T00:00:00.000+03:00|\n",
      "|01/2016|EE     |9021101000|17304 |372   |0       |46000 |01      |IM           |1          |2024-02-01T00:00:00.000+03:00|\n",
      "|01/2016|FR     |3816000000|323488|253600|0       |40000 |02      |IM           |1          |2024-02-01T00:00:00.000+03:00|\n",
      "|01/2016|MX     |8523519300|1611  |0     |4       |40000 |02      |IM           |ShT        |2024-04-01T00:00:00.000+03:00|\n",
      "|01/2016|JP     |6204520000|29    |1     |2       |46000 |01      |IM           |ShT        |2024-02-01T00:00:00.000+03:00|\n",
      "|01/2016|KR     |6110209100|815   |2     |5       |46000 |01      |IM           |ShT        |2024-01-01T00:00:00.000+03:00|\n",
      "|01/2016|KG     |8527139900|11868 |2127  |2630    |46000 |01      |IM           |ShT        |2024-06-01T00:00:00.000+03:00|\n",
      "|01/2016|ZA     |8421230000|12686 |1785  |3451    |45000 |01      |IM           |ShT        |2024-03-01T00:00:00.000+03:00|\n",
      "|01/2016|CN     |8518109500|12    |0     |10      |65000 |05      |IM           |ShT        |2024-03-01T00:00:00.000+03:00|\n",
      "|01/2016|TR     |8417900000|206453|17297 |1       |92000 |04      |IM           |ShT        |2024-06-01T00:00:00.000+03:00|\n",
      "|01/2016|IT     |3906100000|4492  |1075  |0       |45000 |01      |IM           |1          |2024-02-01T00:00:00.000+03:00|\n",
      "|01/2016|CZ     |8708409909|41    |2     |0       |46000 |01      |IM           |1          |2024-01-01T00:00:00.000+03:00|\n",
      "|01/2016|ES     |6404191000|11822 |346   |760     |45000 |01      |IM           |PAR        |2024-01-01T00:00:00.000+03:00|\n",
      "|01/2016|IT     |9404909000|6801  |485   |0       |46000 |01      |IM           |1          |2024-03-01T00:00:00.000+03:00|\n",
      "|01/2016|UA     |8207801900|35793 |1020  |0       |14000 |01      |IM           |1          |2024-02-01T00:00:00.000+03:00|\n",
      "|01/2016|CN     |3304100000|59678 |10829 |0       |46000 |01      |IM           |1          |2024-06-01T00:00:00.000+03:00|\n",
      "|01/2016|SI     |6104440000|1470  |13    |15      |45000 |01      |IM           |ShT        |2024-05-01T00:00:00.000+03:00|\n",
      "+-------+-------+----------+------+------+--------+------+--------+-------------+-----------+-----------------------------+\n",
      "only showing top 20 rows\n",
      "\n"
     ]
    },
    {
     "name": "stderr",
     "output_type": "stream",
     "text": [
      "                                                                                \r"
     ]
    }
   ],
   "source": [
    "df.show(truncate=False)"
   ]
  },
  {
   "cell_type": "code",
   "execution_count": 76,
   "id": "1ba5bd38",
   "metadata": {},
   "outputs": [],
   "source": [
    "df = df\\\n",
    "    .select('country', 'value', 'quantity', 'load_date')"
   ]
  },
  {
   "cell_type": "code",
   "execution_count": 6,
   "id": "47e1eb21",
   "metadata": {},
   "outputs": [],
   "source": [
    "data = [['KG', 123], ['UA', 234], ['CN', 345]]\n",
    "df_d = spark.createDataFrame(data, ['name', 'id'])"
   ]
  },
  {
   "cell_type": "code",
   "execution_count": 10,
   "id": "ea34831e",
   "metadata": {},
   "outputs": [],
   "source": [
    "new = df.join(df_d, df.country == df_d.name, 'inner')"
   ]
  },
  {
   "cell_type": "code",
   "execution_count": 11,
   "id": "43620ad0",
   "metadata": {},
   "outputs": [
    {
     "name": "stdout",
     "output_type": "stream",
     "text": [
      "== Physical Plan ==\n",
      "*(5) SortMergeJoin [country#17], [name#150], Inner\n",
      ":- *(2) Sort [country#17 ASC NULLS FIRST], false, 0\n",
      ":  +- Exchange hashpartitioning(country#17, 200), true, [id=#75]\n",
      ":     +- *(1) Project [month#16, country#17, code#18, value#19, netto#20, quantity#21, region#22, district#23, direction_eng#24, measure_eng#25, load_date#26]\n",
      ":        +- *(1) Filter isnotnull(country#17)\n",
      ":           +- FileScan csv [month#16,country#17,code#18,value#19,netto#20,quantity#21,region#22,district#23,direction_eng#24,measure_eng#25,load_date#26] Batched: false, DataFilters: [isnotnull(country#17)], Format: CSV, Location: InMemoryFileIndex[file:/opt/workspace/data/customs_data.csv], PartitionFilters: [], PushedFilters: [IsNotNull(country)], ReadSchema: struct<month:string,country:string,code:string,value:string,netto:string,quantity:string,region:s...\n",
      "+- *(4) Sort [name#150 ASC NULLS FIRST], false, 0\n",
      "   +- Exchange hashpartitioning(name#150, 200), true, [id=#81]\n",
      "      +- *(3) Filter isnotnull(name#150)\n",
      "         +- *(3) Scan ExistingRDD[name#150,id#151L]\n",
      "\n",
      "\n"
     ]
    }
   ],
   "source": [
    "new.explain()"
   ]
  },
  {
   "cell_type": "code",
   "execution_count": 12,
   "id": "8e691592",
   "metadata": {},
   "outputs": [
    {
     "name": "stderr",
     "output_type": "stream",
     "text": [
      "[Stage 14:==================================================>     (18 + 2) / 20]\r"
     ]
    },
    {
     "name": "stdout",
     "output_type": "stream",
     "text": [
      "+-------+-------+----------+---------+-------+--------+------+--------+-------------+-----------+--------------------+----+---+\n",
      "|  month|country|      code|    value|  netto|quantity|region|district|direction_eng|measure_eng|           load_date|name| id|\n",
      "+-------+-------+----------+---------+-------+--------+------+--------+-------------+-----------+--------------------+----+---+\n",
      "|01/2018|     UA|8484200000| 47127,34|      0|      45| 45000|      01|           IM|        ShT|2024-04-01T00:00:...|  UA|234|\n",
      "|12/2020|     UA|3812390000| 50188,71|  27020|       0| 45000|      01|           IM|          1|2024-02-01T00:00:...|  UA|234|\n",
      "|01/2018|     UA|8546200000| 29188,36|  33840|       0| 45000|      01|           IM|          1|2024-01-01T00:00:...|  UA|234|\n",
      "|12/2020|     UA|3925901000|  5159,71|      0|       0| 45000|      01|           IM|          1|2024-03-01T00:00:...|  UA|234|\n",
      "|01/2018|     UA|8606918000|914598,62|1224100|      45| 45000|      01|           EK|        ShT|2024-01-01T00:00:...|  UA|234|\n",
      "|12/2020|     UA|3814009000| 12407,06|      0|       0| 45000|      01|           EK|          1|2024-06-01T00:00:...|  UA|234|\n",
      "|01/2018|     UA|8701209015| 49136,16|  37346|       5| 45000|      01|           EK|        ShT|2024-06-01T00:00:...|  UA|234|\n",
      "|12/2020|     UA|4002700000|  1586,98|      0|       0| 45000|      01|           EK|          1|2024-06-01T00:00:...|  UA|234|\n",
      "|01/2018|     UA|8607300000|352206,69| 101250|       0| 45000|      01|           EK|          1|2024-05-01T00:00:...|  UA|234|\n",
      "|12/2020|     UA|3907300009|    355,5|    100|       0| 45000|      01|           EK|          1|2024-03-01T00:00:...|  UA|234|\n",
      "|01/2018|     UA|8544429007|   373,15|      0|       0| 45000|      01|           IM|          1|2024-02-01T00:00:...|  UA|234|\n",
      "|12/2020|     UA|3923210000| 39077,52|      0|       0| 45000|      01|           EK|          1|2024-02-01T00:00:...|  UA|234|\n",
      "|01/2018|     UA|8539319000|  1134,07|      0|     540| 45000|      01|           EK|        ShT|2024-01-01T00:00:...|  UA|234|\n",
      "|12/2020|     UA|3916100000|  5688,43|      0|       0| 45000|      01|           EK|          1|2024-04-01T00:00:...|  UA|234|\n",
      "|01/2018|     UA|8542399010|   172,32|      0|      32| 45000|      01|           EK|        ShT|2024-02-01T00:00:...|  UA|234|\n",
      "|12/2020|     UA|3405400000|  38290,5|      0|       0| 45000|      01|           EK|          1|2024-02-01T00:00:...|  UA|234|\n",
      "|01/2018|     UA|8541290000|       16|      0|      16| 45000|      01|           EK|        ShT|2024-03-01T00:00:...|  UA|234|\n",
      "|12/2020|     UA|3923299000|   532,82|      0|       0| 45000|      01|           EK|          1|2024-02-01T00:00:...|  UA|234|\n",
      "|01/2018|     UA|8708509909|127823,56|      0|       0| 45000|      01|           IM|          1|2024-01-01T00:00:...|  UA|234|\n",
      "|12/2020|     UA|3924900001|   480,99|      0|       0| 45000|      01|           EK|          1|2024-01-01T00:00:...|  UA|234|\n",
      "+-------+-------+----------+---------+-------+--------+------+--------+-------------+-----------+--------------------+----+---+\n",
      "only showing top 20 rows\n",
      "\n"
     ]
    },
    {
     "name": "stderr",
     "output_type": "stream",
     "text": [
      "                                                                                \r"
     ]
    }
   ],
   "source": [
    "new.show()"
   ]
  },
  {
   "cell_type": "code",
   "execution_count": 5,
   "id": "0023da87",
   "metadata": {},
   "outputs": [
    {
     "name": "stderr",
     "output_type": "stream",
     "text": [
      "[Stage 2:>                                                          (0 + 1) / 1]\r"
     ]
    },
    {
     "name": "stdout",
     "output_type": "stream",
     "text": [
      "+-------+-------+----------+------+------+--------+------+--------+-------------+-----------+--------------------+\n",
      "|  month|country|      code| value| netto|quantity|region|district|direction_eng|measure_eng|           load_date|\n",
      "+-------+-------+----------+------+------+--------+------+--------+-------------+-----------+--------------------+\n",
      "|01/2016|     IT|6204695000|   131|     1|       7| 46000|      01|           IM|        ShT|2024-07-01T00:00:...|\n",
      "|01/2016|     CN|9001900009|112750|    18|       0| 46000|      01|           IM|          1|2024-01-01T00:00:...|\n",
      "|01/2016|     BY|8414302004|   392|    57|       8| 50000|      06|           IM|        ShT|2024-06-01T00:00:...|\n",
      "|01/2016|     US|9018509000| 54349|   179|       0| 40000|      02|           IM|          1|2024-04-01T00:00:...|\n",
      "|01/2016|     EE|9021101000| 17304|   372|       0| 46000|      01|           IM|          1|2024-02-01T00:00:...|\n",
      "|01/2016|     FR|3816000000|323488|253600|       0| 40000|      02|           IM|          1|2024-02-01T00:00:...|\n",
      "|01/2016|     MX|8523519300|  1611|     0|       4| 40000|      02|           IM|        ShT|2024-04-01T00:00:...|\n",
      "|01/2016|     JP|6204520000|    29|     1|       2| 46000|      01|           IM|        ShT|2024-02-01T00:00:...|\n",
      "|01/2016|     KR|6110209100|   815|     2|       5| 46000|      01|           IM|        ShT|2024-01-01T00:00:...|\n",
      "|01/2016|     KG|8527139900| 11868|  2127|    2630| 46000|      01|           IM|        ShT|2024-06-01T00:00:...|\n",
      "|01/2016|     ZA|8421230000| 12686|  1785|    3451| 45000|      01|           IM|        ShT|2024-03-01T00:00:...|\n",
      "|01/2016|     CN|8518109500|    12|     0|      10| 65000|      05|           IM|        ShT|2024-03-01T00:00:...|\n",
      "|01/2016|     TR|8417900000|206453| 17297|       1| 92000|      04|           IM|        ShT|2024-06-01T00:00:...|\n",
      "|01/2016|     IT|3906100000|  4492|  1075|       0| 45000|      01|           IM|          1|2024-02-01T00:00:...|\n",
      "|01/2016|     CZ|8708409909|    41|     2|       0| 46000|      01|           IM|          1|2024-01-01T00:00:...|\n",
      "|01/2016|     ES|6404191000| 11822|   346|     760| 45000|      01|           IM|        PAR|2024-01-01T00:00:...|\n",
      "|01/2016|     IT|9404909000|  6801|   485|       0| 46000|      01|           IM|          1|2024-03-01T00:00:...|\n",
      "|01/2016|     UA|8207801900| 35793|  1020|       0| 14000|      01|           IM|          1|2024-02-01T00:00:...|\n",
      "|01/2016|     CN|3304100000| 59678| 10829|       0| 46000|      01|           IM|          1|2024-06-01T00:00:...|\n",
      "|01/2016|     SI|6104440000|  1470|    13|      15| 45000|      01|           IM|        ShT|2024-05-01T00:00:...|\n",
      "+-------+-------+----------+------+------+--------+------+--------+-------------+-----------+--------------------+\n",
      "only showing top 20 rows\n",
      "\n"
     ]
    },
    {
     "name": "stderr",
     "output_type": "stream",
     "text": [
      "                                                                                \r"
     ]
    }
   ],
   "source": [
    "df.show()"
   ]
  },
  {
   "cell_type": "code",
   "execution_count": 60,
   "id": "f34058e5",
   "metadata": {},
   "outputs": [],
   "source": [
    "df_new = spark\\\n",
    "    .read\\\n",
    "    .csv('data/no_control', header=True, sep=';')"
   ]
  },
  {
   "cell_type": "code",
   "execution_count": 86,
   "id": "ad4fd8e3",
   "metadata": {},
   "outputs": [
    {
     "name": "stdout",
     "output_type": "stream",
     "text": [
      "+-------+---------+--------+\n",
      "|country|    value|quantity|\n",
      "+-------+---------+--------+\n",
      "|     AT| 46002,81|       0|\n",
      "|     CN|204751,87|       0|\n",
      "|     PL|   543,17|     200|\n",
      "|     DE| 17448,94|       0|\n",
      "|     BY| 234812,5|       0|\n",
      "|     IT|118691,78|       0|\n",
      "|     EE| 96092,76|       0|\n",
      "|     KR| 77794,39|       0|\n",
      "|     BY|    12650|       0|\n",
      "|     KZ| 14664,06|       0|\n",
      "|     BY|   567,87|       0|\n",
      "|     LV|    58,74|       0|\n",
      "|     DE| 90468,68|       0|\n",
      "|     UA| 17613,74|       0|\n",
      "|     TJ|226618,32|       0|\n",
      "|     FI|  18519,2|       0|\n",
      "|     DK| 61739,46|    2626|\n",
      "|     CN|226175,44|       0|\n",
      "|     DE|  17549,2|       0|\n",
      "|     BE|  4711,56|       0|\n",
      "+-------+---------+--------+\n",
      "only showing top 20 rows\n",
      "\n"
     ]
    }
   ],
   "source": [
    "df_new.show()"
   ]
  },
  {
   "cell_type": "code",
   "execution_count": 91,
   "id": "a7ee795b",
   "metadata": {},
   "outputs": [
    {
     "name": "stderr",
     "output_type": "stream",
     "text": [
      "                                                                                \r"
     ]
    }
   ],
   "source": []
  },
  {
   "cell_type": "code",
   "execution_count": 93,
   "id": "e7d0bf9b",
   "metadata": {},
   "outputs": [
    {
     "name": "stderr",
     "output_type": "stream",
     "text": [
      "                                                                                \r"
     ]
    }
   ],
   "source": []
  },
  {
   "cell_type": "markdown",
   "id": "860e77e1",
   "metadata": {},
   "source": [
    "Сохранение таблицы без настроект\n"
   ]
  },
  {
   "cell_type": "code",
   "execution_count": null,
   "id": "a39f8d13",
   "metadata": {},
   "outputs": [],
   "source": [
    "df\\\n",
    "    .write\\\n",
    "    .format('csv')\\\n",
    "    .options(header=True, sep=';')\\\n",
    "    .csv('data/no_control')"
   ]
  },
  {
   "cell_type": "markdown",
   "id": "931e4b6d",
   "metadata": {},
   "source": [
    "Сохранение партицированной таблицы"
   ]
  },
  {
   "cell_type": "code",
   "execution_count": null,
   "id": "4a7e50a5",
   "metadata": {},
   "outputs": [],
   "source": [
    "df\\\n",
    "    .write\\\n",
    "    .partitionBy('load_date')\\\n",
    "    .format('csv')\\\n",
    "    .options(header=True, sep=';')\\\n",
    "    .csv('data/partitionby')"
   ]
  },
  {
   "cell_type": "markdown",
   "id": "aaee2fcc",
   "metadata": {},
   "source": [
    "Сохранение одним файлом"
   ]
  },
  {
   "cell_type": "code",
   "execution_count": null,
   "id": "61add794",
   "metadata": {},
   "outputs": [],
   "source": [
    "df\\\n",
    "    .coalesce(1)\\\n",
    "    .write\\\n",
    "    .format('csv')\\\n",
    "    .options(header=True, sep=';')\\\n",
    "    .csv('data/one_file')"
   ]
  },
  {
   "cell_type": "markdown",
   "id": "a6b26b2b",
   "metadata": {},
   "source": [
    "Сохранение партицированной таблицы одним файлом"
   ]
  },
  {
   "cell_type": "code",
   "execution_count": 95,
   "id": "6ebfb60a",
   "metadata": {},
   "outputs": [
    {
     "name": "stderr",
     "output_type": "stream",
     "text": [
      "                                                                                \r"
     ]
    }
   ],
   "source": [
    "df\\\n",
    "    .coalesce(1)\\\n",
    "    .write\\\n",
    "    .partitionBy('load_date')\\\n",
    "    .format('csv')\\\n",
    "    .options(header=True, sep=';')\\\n",
    "    .csv('data/one_file_with_part')"
   ]
  },
  {
   "cell_type": "code",
   "execution_count": null,
   "id": "e3dcff3f",
   "metadata": {},
   "outputs": [],
   "source": []
  },
  {
   "cell_type": "code",
   "execution_count": 31,
   "id": "9d2bac03",
   "metadata": {},
   "outputs": [],
   "source": [
    "df = df.withColumnRenamed('direction_eng', 'direction')"
   ]
  },
  {
   "cell_type": "code",
   "execution_count": 57,
   "id": "b1f3a618",
   "metadata": {},
   "outputs": [],
   "source": [
    "result = df.withColumnRenamed('direction_eng', 'direction').withColumnRenamed('measure_eng', 'measure')"
   ]
  },
  {
   "cell_type": "code",
   "execution_count": null,
   "id": "051cf6d6",
   "metadata": {},
   "outputs": [],
   "source": [
    "result.withColumnsRenamed({'code':'new_code', 'country':'new_country'}).show()"
   ]
  },
  {
   "cell_type": "code",
   "execution_count": 58,
   "id": "7dbe053c",
   "metadata": {},
   "outputs": [
    {
     "name": "stdout",
     "output_type": "stream",
     "text": [
      "+-------+-------+----------+------+------+--------+------+--------+-------------+-----------+--------------------+\n",
      "|  month|country|      code| value| netto|quantity|region|district|direction_eng|measure_eng|           load_date|\n",
      "+-------+-------+----------+------+------+--------+------+--------+-------------+-----------+--------------------+\n",
      "|01/2016|     IT|6204695000|   131|     1|       7| 46000|      01|           IM|        ShT|2024-07-01T00:00:...|\n",
      "|01/2016|     CN|9001900009|112750|    18|       0| 46000|      01|           IM|          1|2024-01-01T00:00:...|\n",
      "|01/2016|     BY|8414302004|   392|    57|       8| 50000|      06|           IM|        ShT|2024-06-01T00:00:...|\n",
      "|01/2016|     US|9018509000| 54349|   179|       0| 40000|      02|           IM|          1|2024-04-01T00:00:...|\n",
      "|01/2016|     EE|9021101000| 17304|   372|       0| 46000|      01|           IM|          1|2024-02-01T00:00:...|\n",
      "|01/2016|     FR|3816000000|323488|253600|       0| 40000|      02|           IM|          1|2024-02-01T00:00:...|\n",
      "|01/2016|     MX|8523519300|  1611|     0|       4| 40000|      02|           IM|        ShT|2024-04-01T00:00:...|\n",
      "|01/2016|     JP|6204520000|    29|     1|       2| 46000|      01|           IM|        ShT|2024-02-01T00:00:...|\n",
      "|01/2016|     KR|6110209100|   815|     2|       5| 46000|      01|           IM|        ShT|2024-01-01T00:00:...|\n",
      "|01/2016|     KG|8527139900| 11868|  2127|    2630| 46000|      01|           IM|        ShT|2024-06-01T00:00:...|\n",
      "|01/2016|     ZA|8421230000| 12686|  1785|    3451| 45000|      01|           IM|        ShT|2024-03-01T00:00:...|\n",
      "|01/2016|     CN|8518109500|    12|     0|      10| 65000|      05|           IM|        ShT|2024-03-01T00:00:...|\n",
      "|01/2016|     TR|8417900000|206453| 17297|       1| 92000|      04|           IM|        ShT|2024-06-01T00:00:...|\n",
      "|01/2016|     IT|3906100000|  4492|  1075|       0| 45000|      01|           IM|          1|2024-02-01T00:00:...|\n",
      "|01/2016|     CZ|8708409909|    41|     2|       0| 46000|      01|           IM|          1|2024-01-01T00:00:...|\n",
      "|01/2016|     ES|6404191000| 11822|   346|     760| 45000|      01|           IM|        PAR|2024-01-01T00:00:...|\n",
      "|01/2016|     IT|9404909000|  6801|   485|       0| 46000|      01|           IM|          1|2024-03-01T00:00:...|\n",
      "|01/2016|     UA|8207801900| 35793|  1020|       0| 14000|      01|           IM|          1|2024-02-01T00:00:...|\n",
      "|01/2016|     CN|3304100000| 59678| 10829|       0| 46000|      01|           IM|          1|2024-06-01T00:00:...|\n",
      "|01/2016|     SI|6104440000|  1470|    13|      15| 45000|      01|           IM|        ShT|2024-05-01T00:00:...|\n",
      "+-------+-------+----------+------+------+--------+------+--------+-------------+-----------+--------------------+\n",
      "only showing top 20 rows\n"
     ]
    }
   ],
   "source": [
    "df.show()"
   ]
  },
  {
   "cell_type": "code",
   "execution_count": 20,
   "id": "3dabe924",
   "metadata": {},
   "outputs": [],
   "source": [
    "df2 = df.select('load_date', 'month', 'value')\n",
    "\n",
    "\n",
    "df2 = df2.withColumn('load_date', F.col('load_date').cast('date'))"
   ]
  },
  {
   "cell_type": "code",
   "execution_count": 26,
   "id": "21768c93",
   "metadata": {},
   "outputs": [],
   "source": [
    "df = df.withColumn('load_date', df['load_date'].cast('date'))\\\n",
    "    .withColumn('region', df['region'].cast('int'))"
   ]
  },
  {
   "cell_type": "markdown",
   "id": "ab365063",
   "metadata": {},
   "source": [
    "### PrintSchema"
   ]
  },
  {
   "cell_type": "code",
   "execution_count": 17,
   "id": "d36c02c6",
   "metadata": {},
   "outputs": [
    {
     "name": "stdout",
     "output_type": "stream",
     "text": [
      "root\n",
      " |-- country: string (nullable = true)\n",
      " |-- value: integer (nullable = true)\n",
      " |-- quantity: integer (nullable = true)\n",
      "\n"
     ]
    }
   ],
   "source": [
    "df.printSchema()"
   ]
  },
  {
   "cell_type": "code",
   "execution_count": 7,
   "id": "867cb24a",
   "metadata": {},
   "outputs": [
    {
     "data": {
      "text/plain": [
       "['month',\n",
       " 'country',\n",
       " 'code',\n",
       " 'value',\n",
       " 'netto',\n",
       " 'quantity',\n",
       " 'region',\n",
       " 'district',\n",
       " 'direction',\n",
       " 'measure',\n",
       " 'load_date']"
      ]
     },
     "execution_count": 7,
     "metadata": {},
     "output_type": "execute_result"
    }
   ],
   "source": [
    "result = df\\\n",
    "            .withColumnRenamed(\"direction_eng\", \"direction\")\\\n",
    "            .withColumnRenamed(\"measure_eng\", \"measure\")\n",
    "\n",
    "result.columns"
   ]
  },
  {
   "cell_type": "markdown",
   "id": "f93fed97",
   "metadata": {},
   "source": [
    "### Select"
   ]
  },
  {
   "cell_type": "code",
   "execution_count": 59,
   "id": "48db7717",
   "metadata": {},
   "outputs": [
    {
     "name": "stdout",
     "output_type": "stream",
     "text": [
      "+-------+\n",
      "|country|\n",
      "+-------+\n",
      "|LT     |\n",
      "|MM     |\n",
      "|DZ     |\n",
      "|CI     |\n",
      "|TC     |\n",
      "|FI     |\n",
      "|SC     |\n",
      "|AZ     |\n",
      "|UA     |\n",
      "|RO     |\n",
      "+-------+\n",
      "only showing top 10 rows\n"
     ]
    }
   ],
   "source": [
    "result.select('country').distinct().show(10, truncate=False)"
   ]
  },
  {
   "cell_type": "markdown",
   "id": "16156ac8",
   "metadata": {},
   "source": [
    "### GroupBy"
   ]
  },
  {
   "cell_type": "code",
   "execution_count": 42,
   "id": "7f520fa6",
   "metadata": {},
   "outputs": [],
   "source": [
    "result\\\n",
    "    .groupBy('country')\\\n",
    "    .agg(F.count('*').alias('total_rows'))\\\n",
    "    .orderBy(F.col('total_rows').desc())\\\n",
    "    .show()"
   ]
  },
  {
   "cell_type": "markdown",
   "id": "49d8e76d",
   "metadata": {},
   "source": [
    "### Filter"
   ]
  },
  {
   "cell_type": "code",
   "execution_count": 52,
   "id": "8c7566df",
   "metadata": {
    "collapsed": true,
    "jupyter": {
     "outputs_hidden": true
    }
   },
   "outputs": [
    {
     "ename": "AttributeError",
     "evalue": "'NoneType' object has no attribute 'withColumn'",
     "output_type": "error",
     "traceback": [
      "\u001b[1;31m---------------------------------------------------------------------------\u001b[0m",
      "\u001b[1;31mAttributeError\u001b[0m                            Traceback (most recent call last)",
      "Cell \u001b[1;32mIn[52], line 1\u001b[0m\n\u001b[1;32m----> 1\u001b[0m result \u001b[38;5;241m=\u001b[39m \u001b[43mresult\u001b[49m\u001b[38;5;241;43m.\u001b[39;49m\u001b[43mwithColumn\u001b[49m(\u001b[38;5;124m'\u001b[39m\u001b[38;5;124mvalue\u001b[39m\u001b[38;5;124m'\u001b[39m, F\u001b[38;5;241m.\u001b[39mregexp_replace(\u001b[38;5;124m'\u001b[39m\u001b[38;5;124mvalue\u001b[39m\u001b[38;5;124m'\u001b[39m, \u001b[38;5;124m'\u001b[39m\u001b[38;5;124m,\u001b[39m\u001b[38;5;124m'\u001b[39m, \u001b[38;5;124m'\u001b[39m\u001b[38;5;124m.\u001b[39m\u001b[38;5;124m'\u001b[39m)\u001b[38;5;241m.\u001b[39mcast(\u001b[38;5;124m'\u001b[39m\u001b[38;5;124mfloat\u001b[39m\u001b[38;5;124m'\u001b[39m))\u001b[38;5;241m.\u001b[39mshow(\u001b[38;5;241m5\u001b[39m)\n",
      "\u001b[1;31mAttributeError\u001b[0m: 'NoneType' object has no attribute 'withColumn'"
     ]
    }
   ],
   "source": [
    "result = result.withColumn('value', F.regexp_replace('value', ',', '.').cast('float')).show(5)"
   ]
  },
  {
   "cell_type": "code",
   "execution_count": 51,
   "id": "4652e154",
   "metadata": {
    "collapsed": true,
    "jupyter": {
     "outputs_hidden": true
    }
   },
   "outputs": [
    {
     "ename": "AttributeError",
     "evalue": "'NoneType' object has no attribute 'printSchema'",
     "output_type": "error",
     "traceback": [
      "\u001b[1;31m---------------------------------------------------------------------------\u001b[0m",
      "\u001b[1;31mAttributeError\u001b[0m                            Traceback (most recent call last)",
      "Cell \u001b[1;32mIn[51], line 1\u001b[0m\n\u001b[1;32m----> 1\u001b[0m \u001b[43mresult\u001b[49m\u001b[38;5;241;43m.\u001b[39;49m\u001b[43mprintSchema\u001b[49m()\n",
      "\u001b[1;31mAttributeError\u001b[0m: 'NoneType' object has no attribute 'printSchema'"
     ]
    }
   ],
   "source": [
    "result.printSchema()"
   ]
  },
  {
   "cell_type": "code",
   "execution_count": 8,
   "id": "373f8bbe",
   "metadata": {},
   "outputs": [
    {
     "name": "stdout",
     "output_type": "stream",
     "text": [
      "+-------+-------+----------+-----+-----+--------+------+--------+---------+-------------+--------------------+\n",
      "|  month|country|      code|value|netto|quantity|region|district|direction|      measure|           load_date|\n",
      "+-------+-------+----------+-----+-----+--------+------+--------+---------+-------------+--------------------+\n",
      "|01/2016|     DE|2918140000|  265|   15|       0| 45000|      01|       IM|            1|2024-03-01T00:00:...|\n",
      "|01/2016|     DE|7306408008|  403|   16|       0| 70000|      01|       IM|            1|2024-01-01T00:00:...|\n",
      "|01/2016|     DE|2106909803|  497|   66|       0| 40000|      02|       IM|            1|2024-04-01T00:00:...|\n",
      "|01/2016|     DE|5906999000|  846|   60|       0| 45000|      01|       IM|            1|2024-01-01T00:00:...|\n",
      "|01/2016|     DE|6112419000|   96|    2|      14| 45000|      01|       IM|          ShT|2024-01-01T00:00:...|\n",
      "|01/2016|     DE|8407330000|  249|  160|       1| 50000|      06|       IM|          ShT|2024-02-01T00:00:...|\n",
      "|01/2016|     DE|8483308007|  221|   21|     516| 83000|      08|       IM|          ShT|2024-03-01T00:00:...|\n",
      "|01/2016|     DE|8448330000|  342|    0|       0| 46000|      01|       IM|            1|2024-03-01T00:00:...|\n",
      "|01/2016|     DE|6117801009|  466|    1|       0| 45000|      01|       IM|            1|2024-01-01T00:00:...|\n",
      "|01/2016|     DE|8483608000|  226|    0|       3| 03000|      03|       IM|          ShT|2024-02-01T00:00:...|\n",
      "|01/2016|     DE|8543709000|  363|    2|       1| 70000|      01|       IM|          ShT|2024-05-01T00:00:...|\n",
      "|01/2016|     DE|7315111000|   46|    1|       0| 45000|      01|       IM|            1|2024-04-01T00:00:...|\n",
      "|01/2016|     DE|2208501100|  619|  611|     171| 40000|      02|       IM|L 100% SPIRTA|2024-01-01T00:00:...|\n",
      "|01/2016|     DE|6115220000|  830|   12|     134| 45000|      01|       IM|          ShT|2024-05-01T00:00:...|\n",
      "|01/2016|     DE|8504409000|  711|    1|       5| 65000|      05|       IM|          ShT|2024-04-01T00:00:...|\n",
      "|01/2016|     DE|9018905009|  427|    7|      12| 65000|      05|       IM|          ShT|2024-05-01T00:00:...|\n",
      "|01/2016|     DE|4823904000|   10|    4|       0| 27000|      02|       IM|            1|2024-03-01T00:00:...|\n",
      "|01/2016|     DE|4821909000|  320|   58|       0| 97000|      04|       IM|            1|2024-04-01T00:00:...|\n",
      "|01/2016|     DE|7323999100|  644|  123|       0| 45000|      01|       IM|            1|2024-05-01T00:00:...|\n",
      "|01/2016|     DE|1904901000|  382|  113|       0| 45000|      01|       IM|            1|2024-04-01T00:00:...|\n",
      "+-------+-------+----------+-----+-----+--------+------+--------+---------+-------------+--------------------+\n",
      "only showing top 20 rows\n",
      "\n"
     ]
    }
   ],
   "source": [
    "result\\\n",
    "    .where('''country == \"DE\"''')\\\n",
    "    .where('''value < 1000''')\\\n",
    "    .show()"
   ]
  },
  {
   "cell_type": "code",
   "execution_count": 9,
   "id": "72478065",
   "metadata": {},
   "outputs": [
    {
     "name": "stderr",
     "output_type": "stream",
     "text": [
      "[Stage 8:>                                                        (0 + 16) / 16]\r"
     ]
    },
    {
     "name": "stdout",
     "output_type": "stream",
     "text": [
      "True\n"
     ]
    },
    {
     "name": "stderr",
     "output_type": "stream",
     "text": [
      "                                                                                \r"
     ]
    }
   ],
   "source": [
    "# Два варианта написании фильтрации\n",
    "df_de = result\\\n",
    "            .where(F.col('country') == 'DE')\\\n",
    "            .where(F.col('value').isNotNull())\n",
    "\n",
    "df_de2 = result\\\n",
    "            .where(''' country == \"DE\" ''')\\\n",
    "            .where(''' value IS NOT NULL ''')\n",
    "\n",
    "print(df_de.count() == df_de2.count())"
   ]
  },
  {
   "cell_type": "markdown",
   "id": "e7ad1982",
   "metadata": {},
   "source": [
    "### Save to CSV"
   ]
  },
  {
   "cell_type": "code",
   "execution_count": 7,
   "id": "7ded3a69",
   "metadata": {},
   "outputs": [
    {
     "name": "stdout",
     "output_type": "stream",
     "text": [
      "+-------+-------+----------+------+-----+--------+------+--------+-------------+-----------+-----------------------------+\n",
      "|month  |country|code      |value |netto|quantity|region|district|direction_eng|measure_eng|load_date                    |\n",
      "+-------+-------+----------+------+-----+--------+------+--------+-------------+-----------+-----------------------------+\n",
      "|01/2016|IT     |6204695000|131   |1    |7       |46000 |01      |IM           |ShT        |2024-07-01T00:00:00.000+03:00|\n",
      "|01/2016|CN     |9001900009|112750|18   |0       |46000 |01      |IM           |1          |2024-01-01T00:00:00.000+03:00|\n",
      "+-------+-------+----------+------+-----+--------+------+--------+-------------+-----------+-----------------------------+\n",
      "only showing top 2 rows\n",
      "\n"
     ]
    }
   ],
   "source": [
    "df.show(2, truncate=False)"
   ]
  },
  {
   "cell_type": "code",
   "execution_count": 15,
   "id": "c3f57ea4",
   "metadata": {},
   "outputs": [],
   "source": [
    "df_de = df"
   ]
  },
  {
   "cell_type": "code",
   "execution_count": 75,
   "id": "1ace88fb",
   "metadata": {},
   "outputs": [
    {
     "data": {
      "text/plain": [
       "['country', 'value', 'quantity']"
      ]
     },
     "execution_count": 75,
     "metadata": {},
     "output_type": "execute_result"
    }
   ],
   "source": [
    "df_de.columns"
   ]
  },
  {
   "cell_type": "code",
   "execution_count": 65,
   "id": "0e213a79",
   "metadata": {},
   "outputs": [
    {
     "name": "stdout",
     "output_type": "stream",
     "text": [
      "+-------+-------+----------+-----+-----+--------+------+--------+---------+-------+----------+\n",
      "|month  |country|code      |value|netto|quantity|region|district|direction|measure|load_date |\n",
      "+-------+-------+----------+-----+-----+--------+------+--------+---------+-------+----------+\n",
      "|01/2016|DE     |4016995709|5901 |172  |0       |46000 |01      |IM       |1      |2024-01-01|\n",
      "|01/2016|DE     |8708809109|1213 |94   |0       |45000 |01      |IM       |1      |2024-01-01|\n",
      "+-------+-------+----------+-----+-----+--------+------+--------+---------+-------+----------+\n",
      "only showing top 2 rows\n"
     ]
    }
   ],
   "source": [
    "final = df_de\\\n",
    "            .select('month',\n",
    "                    'country',\n",
    "                    'code',\n",
    "                    'value',\n",
    "                    'netto',\n",
    "                    'quantity',\n",
    "                    'region',\n",
    "                    'district',\n",
    "                    'direction',\n",
    "                    'measure',\n",
    "                    F.col('load_date').cast('date'))\n",
    "\n",
    "final.show(2, truncate=False)"
   ]
  },
  {
   "cell_type": "code",
   "execution_count": 75,
   "id": "8ff2d77c",
   "metadata": {},
   "outputs": [
    {
     "data": {
      "text/plain": [
       "pyspark.sql.classic.dataframe.DataFrame"
      ]
     },
     "execution_count": 75,
     "metadata": {},
     "output_type": "execute_result"
    }
   ],
   "source": [
    "type(final)"
   ]
  },
  {
   "cell_type": "code",
   "execution_count": 18,
   "id": "d0e880f0",
   "metadata": {},
   "outputs": [],
   "source": [
    "final = df"
   ]
  },
  {
   "cell_type": "code",
   "execution_count": 10,
   "id": "82cd20a7",
   "metadata": {},
   "outputs": [
    {
     "name": "stderr",
     "output_type": "stream",
     "text": [
      "[Stage 3:>                                                          (0 + 1) / 1]\r"
     ]
    },
    {
     "name": "stdout",
     "output_type": "stream",
     "text": [
      "+-------+-------+----------+------+------+--------+------+--------+-------------+-----------+--------------------+\n",
      "|  month|country|      code| value| netto|quantity|region|district|direction_eng|measure_eng|           load_date|\n",
      "+-------+-------+----------+------+------+--------+------+--------+-------------+-----------+--------------------+\n",
      "|01/2016|     IT|6204695000|   131|     1|       7| 46000|      01|           IM|        ShT|2024-07-01T00:00:...|\n",
      "|01/2016|     CN|9001900009|112750|    18|       0| 46000|      01|           IM|          1|2024-01-01T00:00:...|\n",
      "|01/2016|     BY|8414302004|   392|    57|       8| 50000|      06|           IM|        ShT|2024-06-01T00:00:...|\n",
      "|01/2016|     US|9018509000| 54349|   179|       0| 40000|      02|           IM|          1|2024-04-01T00:00:...|\n",
      "|01/2016|     EE|9021101000| 17304|   372|       0| 46000|      01|           IM|          1|2024-02-01T00:00:...|\n",
      "|01/2016|     FR|3816000000|323488|253600|       0| 40000|      02|           IM|          1|2024-02-01T00:00:...|\n",
      "|01/2016|     MX|8523519300|  1611|     0|       4| 40000|      02|           IM|        ShT|2024-04-01T00:00:...|\n",
      "|01/2016|     JP|6204520000|    29|     1|       2| 46000|      01|           IM|        ShT|2024-02-01T00:00:...|\n",
      "|01/2016|     KR|6110209100|   815|     2|       5| 46000|      01|           IM|        ShT|2024-01-01T00:00:...|\n",
      "|01/2016|     KG|8527139900| 11868|  2127|    2630| 46000|      01|           IM|        ShT|2024-06-01T00:00:...|\n",
      "+-------+-------+----------+------+------+--------+------+--------+-------------+-----------+--------------------+\n",
      "only showing top 10 rows\n",
      "\n"
     ]
    },
    {
     "name": "stderr",
     "output_type": "stream",
     "text": [
      "                                                                                \r"
     ]
    }
   ],
   "source": [
    "final.coalesce(1).show(10)"
   ]
  },
  {
   "cell_type": "code",
   "execution_count": 27,
   "id": "7dcecea0",
   "metadata": {},
   "outputs": [
    {
     "name": "stdout",
     "output_type": "stream",
     "text": [
      "+-------+------+--------+\n",
      "|country| value|quantity|\n",
      "+-------+------+--------+\n",
      "|     IT|   131|       7|\n",
      "|     CN|112750|       0|\n",
      "|     BY|   392|       8|\n",
      "|     US| 54349|       0|\n",
      "|     EE| 17304|       0|\n",
      "|     FR|323488|       0|\n",
      "|     MX|  1611|       4|\n",
      "|     JP|    29|       2|\n",
      "|     KR|   815|       5|\n",
      "|     KG| 11868|    2630|\n",
      "|     ZA| 12686|    3451|\n",
      "|     CN|    12|      10|\n",
      "|     TR|206453|       1|\n",
      "|     IT|  4492|       0|\n",
      "|     CZ|    41|       0|\n",
      "|     ES| 11822|     760|\n",
      "|     IT|  6801|       0|\n",
      "|     UA| 35793|       0|\n",
      "|     CN| 59678|       0|\n",
      "|     SI|  1470|      15|\n",
      "+-------+------+--------+\n",
      "only showing top 20 rows\n",
      "\n"
     ]
    }
   ],
   "source": [
    "final.show()"
   ]
  },
  {
   "cell_type": "code",
   "execution_count": 33,
   "id": "5ffe7b69",
   "metadata": {},
   "outputs": [
    {
     "name": "stderr",
     "output_type": "stream",
     "text": [
      "                                                                                \r"
     ]
    },
    {
     "name": "stdout",
     "output_type": "stream",
     "text": [
      "Кол-во партиций 1\n"
     ]
    }
   ],
   "source": [
    "# Сохранение неконтроллируемое по кол-ву файлов\n",
    "# df\\\n",
    "#     .write\\\n",
    "#     .format('csv')\\\n",
    "#     .options(header='True', sep=';')\\\n",
    "#     .csv('data/new_data')\n",
    "\n",
    "# partition_num = final.rdd.getNumPartitions()\n",
    "# print(f'Кол-во партиций {partition_num}')\n",
    "\n",
    "# # Сохранение контроллируемое по кол-ву файлов - ОДИН ФАЙЛ\n",
    "# final\\\n",
    "#     .coalesce(1)\\\n",
    "#     .write\\\n",
    "#     .format('csv')\\\n",
    "#     .options(header='True', sep=';')\\\n",
    "#     .csv('data/final_one_file') \n",
    "\n",
    "# partition_num = final.coalesce(1).rdd.getNumPartitions()\n",
    "# print(f'Кол-во партиций {partition_num}')\n",
    "\n",
    "\n",
    "# # Сохранения с партицированием\n",
    "# final\\\n",
    "#     .coalesce(1) \\\n",
    "#     .write\\\n",
    "#     .partitionBy('country')\\\n",
    "#     .format('csv')\\\n",
    "#     .options(header='True', sep=';')\\\n",
    "#     .csv('data/final_partitioned')\n",
    "\n",
    "# print_df = final.select('country').distinct()\n",
    "# print(f'country distinct: {print_df.count()}')\n",
    "\n",
    "\n",
    "# # Сохранения с партицированием и repartition внутри самой партиции\n",
    "final\\\n",
    "    co\\\n",
    "    .write\\\n",
    "    .partitionBy('country')\\\n",
    "    .format('csv')\\\n",
    "    .options(header='True', sep=';')\\\n",
    "    .csv('data/final_partitioned_repart')\n",
    "\n",
    "partition_num = final.repartition(1, 'country').rdd.getNumPartitions()\n",
    "print(f'Кол-во партиций {partition_num}')"
   ]
  },
  {
   "cell_type": "code",
   "execution_count": 41,
   "id": "efeffcb9",
   "metadata": {},
   "outputs": [],
   "source": [
    "new_df = spark \\\n",
    "    .read\\\n",
    "    .csv('data/final_one_file/', header=True, sep=';')\\\n",
    "    .groupBy('country')\\\n",
    "    .agg(F.count('*').alias('schet'))\\\n",
    "    .orderBy(F.col('schet').desc())"
   ]
  },
  {
   "cell_type": "code",
   "execution_count": 42,
   "id": "87748a66",
   "metadata": {},
   "outputs": [
    {
     "name": "stdout",
     "output_type": "stream",
     "text": [
      "+-------+-----+\n",
      "|country|schet|\n",
      "+-------+-----+\n",
      "|     DZ|    1|\n",
      "|     MM|    1|\n",
      "|     LT|    1|\n",
      "|     TC|    1|\n",
      "|     CI|    1|\n",
      "|     SC|    1|\n",
      "|     AZ|    1|\n",
      "|     FI|    1|\n",
      "|     UA|    1|\n",
      "|     KI|    1|\n",
      "|     ZM|    1|\n",
      "|     RO|    1|\n",
      "|     SL|    1|\n",
      "|     SB|    1|\n",
      "|     LA|    1|\n",
      "|     NL|    1|\n",
      "|     BW|    1|\n",
      "|     BS|    1|\n",
      "|     MN|    1|\n",
      "|     RE|    1|\n",
      "+-------+-----+\n",
      "only showing top 20 rows\n",
      "\n"
     ]
    }
   ],
   "source": [
    "new_df.show()"
   ]
  },
  {
   "cell_type": "markdown",
   "id": "ffe5c425",
   "metadata": {},
   "source": [
    "### Read Transformed"
   ]
  },
  {
   "cell_type": "code",
   "execution_count": 99,
   "id": "6953fb49",
   "metadata": {},
   "outputs": [
    {
     "name": "stderr",
     "output_type": "stream",
     "text": [
      "                                                                                \r"
     ]
    },
    {
     "data": {
      "text/plain": [
       "9"
      ]
     },
     "execution_count": 99,
     "metadata": {},
     "output_type": "execute_result"
    }
   ],
   "source": [
    "reader_no_control = spark\\\n",
    "                        .read\\\n",
    "                        .csv('data/no_control/', header=True, sep=';')\\\n",
    "                        .where(''' country = 'GG' ''')\n",
    "\n",
    "reader_final_one_file = spark\\\n",
    "                            .read\\\n",
    "                            .csv('data/one_file/', header=True, sep=';')\\\n",
    "                            .where(''' country = 'GG' ''')\n",
    "\n",
    "reader_partitioned = spark\\\n",
    "                        .read\\\n",
    "                        .csv('data/partitionby', header=True, sep=';')\\\n",
    "                        .where(''' country = 'GG' ''')\n",
    "\n",
    "reader_partitioned_repart = spark\\\n",
    "                                .read\\\n",
    "                                .csv('data/one_file_with_part', header=True, sep=';')\\\n",
    "                                .where(''' country = 'GG' ''')\n",
    "\n",
    "\n",
    "reader_no_control.count() # number of files read: 16 | size of files read: 1064.7 MiB | 30.5 s (1.8 s, 2.0 s, 2.7 s )\n",
    "\n",
    "reader_final_one_file.count() # number of files read: 1 | size of files read: 1064.7 MiB | 30.7 s (836 ms, 3.8 s, 3.9 s )\n",
    "\n",
    "reader_partitioned.count() # number of files read: 160 | size of files read: 309.6 MiB | 20.7 s (916 ms, 3.1 s, 3.9 s )\n",
    "\n",
    "reader_partitioned_repart.count() # number of files read: 10 | size of files read: 309.6 MiB | 16.6 s (385 ms, 2.1 s, 2.4 s )"
   ]
  },
  {
   "cell_type": "markdown",
   "id": "fedfa70c",
   "metadata": {},
   "source": [
    "### JOIN"
   ]
  },
  {
   "cell_type": "code",
   "execution_count": 100,
   "id": "b2435d00",
   "metadata": {},
   "outputs": [
    {
     "name": "stdout",
     "output_type": "stream",
     "text": [
      "+---------+-----------+\n",
      "|region_id|       name|\n",
      "+---------+-----------+\n",
      "|    14000|   Северный|\n",
      "|    11000|      Южный|\n",
      "|    10000|  Восточный|\n",
      "|    26000|   Западный|\n",
      "|    56000|Центральный|\n",
      "+---------+-----------+\n",
      "\n",
      "+-------+-------+----------+------+-----+--------+------+--------+-------------+-----------+--------------------+\n",
      "|  month|country|      code| value|netto|quantity|region|district|direction_eng|measure_eng|           load_date|\n",
      "+-------+-------+----------+------+-----+--------+------+--------+-------------+-----------+--------------------+\n",
      "|01/2016|     IT|6204695000|   131|    1|       7| 46000|      01|           IM|        ShT|2024-07-01T00:00:...|\n",
      "|01/2016|     CN|9001900009|112750|   18|       0| 46000|      01|           IM|          1|2024-01-01T00:00:...|\n",
      "+-------+-------+----------+------+-----+--------+------+--------+-------------+-----------+--------------------+\n",
      "only showing top 2 rows\n",
      "\n"
     ]
    }
   ],
   "source": [
    "data = [\n",
    "    (14000, \"Северный\"),\n",
    "    (11000, \"Южный\"),\n",
    "    (10000, \"Восточный\"),\n",
    "    (26000, \"Западный\"),\n",
    "    (56000, \"Центральный\")\n",
    "]\n",
    "\n",
    "region_df = spark.createDataFrame(data, schema='region_id long, name string')\n",
    "\n",
    "region_df.show()\n",
    "\n",
    "\n",
    "customs_data = spark\\\n",
    "                .read\\\n",
    "                .csv('data/customs_data.csv', header=True, sep=';')\n",
    "\n",
    "customs_data.show(2)"
   ]
  },
  {
   "cell_type": "code",
   "execution_count": 102,
   "id": "8307ded2",
   "metadata": {},
   "outputs": [],
   "source": [
    "# Отключим автоматический Broadcast JOIN\n",
    "import time\n",
    "spark.conf.set(\"spark.sql.autoBroadcastJoinThreshold\", -1)"
   ]
  },
  {
   "cell_type": "code",
   "execution_count": 108,
   "id": "fe7476e2",
   "metadata": {},
   "outputs": [
    {
     "name": "stderr",
     "output_type": "stream",
     "text": [
      "[Stage 131:====================================================>(199 + 1) / 200]\r"
     ]
    },
    {
     "name": "stdout",
     "output_type": "stream",
     "text": [
      "Elapsed time for join operation: 9.40 seconds\n"
     ]
    },
    {
     "name": "stderr",
     "output_type": "stream",
     "text": [
      "                                                                                \r"
     ]
    }
   ],
   "source": [
    "# Замерим выполнение запроса без broadcast join\n",
    "\n",
    "start_time = time.time()\n",
    "\n",
    "customs_data.join(region_df, customs_data.region==region_df.region_id, \"left\").count()\n",
    "\n",
    "end_time = time.time()\n",
    "\n",
    "print(f\"Elapsed time for join operation: {end_time - start_time:.2f} seconds\")"
   ]
  },
  {
   "cell_type": "code",
   "execution_count": 104,
   "id": "4d13d1f8",
   "metadata": {},
   "outputs": [
    {
     "name": "stderr",
     "output_type": "stream",
     "text": [
      "[Stage 119:=====================================>                 (11 + 5) / 16]\r"
     ]
    },
    {
     "name": "stdout",
     "output_type": "stream",
     "text": [
      "Elapsed time for broadcast join operation: 6.89 seconds\n"
     ]
    },
    {
     "name": "stderr",
     "output_type": "stream",
     "text": [
      "                                                                                \r"
     ]
    }
   ],
   "source": [
    "# Замерим выполнение запроса c broadcast join\n",
    "\n",
    "start_time = time.time()\n",
    "\n",
    "customs_data.join(F.broadcast(region_df), customs_data.region == region_df.region_id, \"left\").count()\n",
    "\n",
    "end_time = time.time()\n",
    "\n",
    "print(f\"Elapsed time for broadcast join operation: {end_time - start_time:.2f} seconds\")"
   ]
  },
  {
   "cell_type": "markdown",
   "id": "bb73e816",
   "metadata": {},
   "source": [
    "### Cache | Persist"
   ]
  },
  {
   "cell_type": "code",
   "execution_count": 110,
   "id": "fcfeeb75",
   "metadata": {},
   "outputs": [
    {
     "name": "stderr",
     "output_type": "stream",
     "text": [
      "                                                                                \r"
     ]
    },
    {
     "data": {
      "text/plain": [
       "26392290"
      ]
     },
     "execution_count": 110,
     "metadata": {},
     "output_type": "execute_result"
    }
   ],
   "source": [
    "customs_data.cache().count()"
   ]
  },
  {
   "cell_type": "code",
   "execution_count": 113,
   "id": "13eeedbe",
   "metadata": {},
   "outputs": [
    {
     "data": {
      "text/plain": [
       "DataFrame[month: string, country: string, code: string, value: string, netto: string, quantity: string, region: string, district: string, direction_eng: string, measure_eng: string, load_date: string]"
      ]
     },
     "execution_count": 113,
     "metadata": {},
     "output_type": "execute_result"
    }
   ],
   "source": [
    "customs_data.unpersist()"
   ]
  },
  {
   "cell_type": "code",
   "execution_count": 54,
   "id": "a3b4a3d8",
   "metadata": {},
   "outputs": [],
   "source": [
    "from pyspark.storagelevel import StorageLevel\n",
    "\n",
    "customs_data.persist(StorageLevel.DISK_ONLY).count()"
   ]
  },
  {
   "cell_type": "markdown",
   "id": "72bc561f",
   "metadata": {},
   "source": [
    "### Repartition & Coalesce"
   ]
  },
  {
   "cell_type": "code",
   "execution_count": 114,
   "id": "cf40adcb",
   "metadata": {},
   "outputs": [
    {
     "name": "stdout",
     "output_type": "stream",
     "text": [
      "+---+------+\n",
      "| id|number|\n",
      "+---+------+\n",
      "|  1|   one|\n",
      "|  2|   two|\n",
      "|  3| three|\n",
      "|  4|  four|\n",
      "|  5|  five|\n",
      "|  6|   six|\n",
      "|  7| seven|\n",
      "|  8| eight|\n",
      "|  9|  nine|\n",
      "+---+------+\n",
      "\n"
     ]
    }
   ],
   "source": [
    "data = [(1,'one'), (2,'two'), (3,'three'), (4,'four'),\n",
    "        (5,'five'), (6,'six'), (7, 'seven'), (8, 'eight'),\n",
    "        (9, 'nine')]\n",
    "\n",
    "df = spark.createDataFrame(data, ['id', 'number'])\n",
    "\n",
    "df.show()"
   ]
  },
  {
   "cell_type": "code",
   "execution_count": 115,
   "id": "89552235",
   "metadata": {},
   "outputs": [
    {
     "data": {
      "text/plain": [
       "[[],\n",
       " [],\n",
       " [],\n",
       " [],\n",
       " [],\n",
       " [],\n",
       " [Row(id=1, number='one'),\n",
       "  Row(id=5, number='five'),\n",
       "  Row(id=6, number='six'),\n",
       "  Row(id=8, number='eight'),\n",
       "  Row(id=4, number='four'),\n",
       "  Row(id=2, number='two'),\n",
       "  Row(id=7, number='seven'),\n",
       "  Row(id=3, number='three')],\n",
       " [Row(id=9, number='nine')]]"
      ]
     },
     "execution_count": 115,
     "metadata": {},
     "output_type": "execute_result"
    }
   ],
   "source": [
    "# Намеренно перемешаем и поделим на 8 разделов\n",
    "mix = df.repartition(8)\n",
    "mix.rdd.glom().collect()"
   ]
  },
  {
   "cell_type": "code",
   "execution_count": 58,
   "id": "d36e3b85",
   "metadata": {},
   "outputs": [],
   "source": [
    "mix.repartition(3).rdd.glom().collect()"
   ]
  },
  {
   "cell_type": "code",
   "execution_count": 59,
   "id": "e8f1a7d8",
   "metadata": {},
   "outputs": [],
   "source": [
    "mix.coalesce(3).rdd.glom().collect()"
   ]
  },
  {
   "cell_type": "code",
   "execution_count": 116,
   "id": "d60a38ef",
   "metadata": {},
   "outputs": [
    {
     "ename": "ImportError",
     "evalue": "Pandas >= 0.23.2 must be installed; however, it was not found.",
     "output_type": "error",
     "traceback": [
      "\u001b[0;31m---------------------------------------------------------------------------\u001b[0m",
      "\u001b[0;31mImportError\u001b[0m                               Traceback (most recent call last)",
      "Cell \u001b[0;32mIn[116], line 1\u001b[0m\n\u001b[0;32m----> 1\u001b[0m \u001b[43mmix\u001b[49m\u001b[38;5;241;43m.\u001b[39;49m\u001b[43mtoPandas\u001b[49m\u001b[43m(\u001b[49m\u001b[43m)\u001b[49m\u001b[38;5;241m.\u001b[39mhead()\n",
      "File \u001b[0;32m/usr/local/lib/python3.9/dist-packages/pyspark/sql/pandas/conversion.py:63\u001b[0m, in \u001b[0;36mPandasConversionMixin.toPandas\u001b[0;34m(self)\u001b[0m\n\u001b[1;32m     60\u001b[0m \u001b[38;5;28;01massert\u001b[39;00m \u001b[38;5;28misinstance\u001b[39m(\u001b[38;5;28mself\u001b[39m, DataFrame)\n\u001b[1;32m     62\u001b[0m \u001b[38;5;28;01mfrom\u001b[39;00m\u001b[38;5;250m \u001b[39m\u001b[38;5;21;01mpyspark\u001b[39;00m\u001b[38;5;21;01m.\u001b[39;00m\u001b[38;5;21;01msql\u001b[39;00m\u001b[38;5;21;01m.\u001b[39;00m\u001b[38;5;21;01mpandas\u001b[39;00m\u001b[38;5;21;01m.\u001b[39;00m\u001b[38;5;21;01mutils\u001b[39;00m\u001b[38;5;250m \u001b[39m\u001b[38;5;28;01mimport\u001b[39;00m require_minimum_pandas_version\n\u001b[0;32m---> 63\u001b[0m \u001b[43mrequire_minimum_pandas_version\u001b[49m\u001b[43m(\u001b[49m\u001b[43m)\u001b[49m\n\u001b[1;32m     65\u001b[0m \u001b[38;5;28;01mimport\u001b[39;00m\u001b[38;5;250m \u001b[39m\u001b[38;5;21;01mnumpy\u001b[39;00m\u001b[38;5;250m \u001b[39m\u001b[38;5;28;01mas\u001b[39;00m\u001b[38;5;250m \u001b[39m\u001b[38;5;21;01mnp\u001b[39;00m\n\u001b[1;32m     66\u001b[0m \u001b[38;5;28;01mimport\u001b[39;00m\u001b[38;5;250m \u001b[39m\u001b[38;5;21;01mpandas\u001b[39;00m\u001b[38;5;250m \u001b[39m\u001b[38;5;28;01mas\u001b[39;00m\u001b[38;5;250m \u001b[39m\u001b[38;5;21;01mpd\u001b[39;00m\n",
      "File \u001b[0;32m/usr/local/lib/python3.9/dist-packages/pyspark/sql/pandas/utils.py:32\u001b[0m, in \u001b[0;36mrequire_minimum_pandas_version\u001b[0;34m()\u001b[0m\n\u001b[1;32m     30\u001b[0m     have_pandas \u001b[38;5;241m=\u001b[39m \u001b[38;5;28;01mFalse\u001b[39;00m\n\u001b[1;32m     31\u001b[0m \u001b[38;5;28;01mif\u001b[39;00m \u001b[38;5;129;01mnot\u001b[39;00m have_pandas:\n\u001b[0;32m---> 32\u001b[0m     \u001b[38;5;28;01mraise\u001b[39;00m \u001b[38;5;167;01mImportError\u001b[39;00m(\u001b[38;5;124m\"\u001b[39m\u001b[38;5;124mPandas >= \u001b[39m\u001b[38;5;132;01m%s\u001b[39;00m\u001b[38;5;124m must be installed; however, \u001b[39m\u001b[38;5;124m\"\u001b[39m\n\u001b[1;32m     33\u001b[0m                       \u001b[38;5;124m\"\u001b[39m\u001b[38;5;124mit was not found.\u001b[39m\u001b[38;5;124m\"\u001b[39m \u001b[38;5;241m%\u001b[39m minimum_pandas_version)\n\u001b[1;32m     34\u001b[0m \u001b[38;5;28;01mif\u001b[39;00m LooseVersion(pandas\u001b[38;5;241m.\u001b[39m__version__) \u001b[38;5;241m<\u001b[39m LooseVersion(minimum_pandas_version):\n\u001b[1;32m     35\u001b[0m     \u001b[38;5;28;01mraise\u001b[39;00m \u001b[38;5;167;01mImportError\u001b[39;00m(\u001b[38;5;124m\"\u001b[39m\u001b[38;5;124mPandas >= \u001b[39m\u001b[38;5;132;01m%s\u001b[39;00m\u001b[38;5;124m must be installed; however, \u001b[39m\u001b[38;5;124m\"\u001b[39m\n\u001b[1;32m     36\u001b[0m                       \u001b[38;5;124m\"\u001b[39m\u001b[38;5;124myour version was \u001b[39m\u001b[38;5;132;01m%s\u001b[39;00m\u001b[38;5;124m.\u001b[39m\u001b[38;5;124m\"\u001b[39m \u001b[38;5;241m%\u001b[39m (minimum_pandas_version, pandas\u001b[38;5;241m.\u001b[39m__version__))\n",
      "\u001b[0;31mImportError\u001b[0m: Pandas >= 0.23.2 must be installed; however, it was not found."
     ]
    }
   ],
   "source": [
    "mix.toPandas().head()"
   ]
  },
  {
   "cell_type": "code",
   "execution_count": null,
   "id": "1b3204b0",
   "metadata": {},
   "outputs": [],
   "source": [
    "# OUT OF MEMORY\n",
    "\n",
    "d = spark.read.csv('data/customs_data.csv', header=True, sep='\\t')\n",
    "d.collect()"
   ]
  },
  {
   "cell_type": "code",
   "execution_count": 34,
   "id": "205fa5a5",
   "metadata": {},
   "outputs": [],
   "source": [
    "spark.stop()"
   ]
  },
  {
   "cell_type": "code",
   "execution_count": null,
   "id": "37b2fba1",
   "metadata": {},
   "outputs": [],
   "source": [
    "'hello'"
   ]
  },
  {
   "cell_type": "code",
   "execution_count": null,
   "id": "3991419f",
   "metadata": {},
   "outputs": [],
   "source": []
  },
  {
   "cell_type": "code",
   "execution_count": null,
   "id": "427381e9",
   "metadata": {},
   "outputs": [],
   "source": []
  }
 ],
 "metadata": {
  "kernelspec": {
   "display_name": "Python 3 (ipykernel)",
   "language": "python",
   "name": "python3"
  },
  "language_info": {
   "codemirror_mode": {
    "name": "ipython",
    "version": 3
   },
   "file_extension": ".py",
   "mimetype": "text/x-python",
   "name": "python",
   "nbconvert_exporter": "python",
   "pygments_lexer": "ipython3",
   "version": "3.9.2"
  }
 },
 "nbformat": 4,
 "nbformat_minor": 5
}
