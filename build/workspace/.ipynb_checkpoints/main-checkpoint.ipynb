{
 "cells": [
  {
   "cell_type": "code",
   "execution_count": null,
   "id": "253ee7fb",
   "metadata": {},
   "outputs": [],
   "source": [
    "from airflow.providers.apache.spark.operators.spark_submit import SparkSubmitOperator   #Устанавливает соединение с кластером Spark\n",
    "from airflow.decorators import dag, task\n",
    "import logging\n",
    "from datetime import datetime, timedelta"
   ]
  },
  {
   "cell_type": "code",
   "execution_count": null,
   "id": "d1d54c08",
   "metadata": {},
   "outputs": [],
   "source": [
    "default_args = {\n",
    "    'owner': 'airflow',\n",
    "    'start_date': datetime(2024, 1, 1),\n",
    "    'retries': 2,\n",
    "    'retry_delay': timedelta(minutes=1)\n",
    "}\n",
    "    \n",
    "@dag(\n",
    "    dag_id='Spark_job',\n",
    "    default_args=default_args,\n",
    "    schedule_interval='@hourly',\n",
    "    catchup=False,\n",
    "    tags=['cost']\n",
    ")"
   ]
  },
  {
   "cell_type": "code",
   "execution_count": null,
   "id": "6c4abecf",
   "metadata": {},
   "outputs": [],
   "source": [
    "var = SparkSubmitOperator(\n",
    "    task_id='test_op',\n",
    "    application='/opt/workspace/get_data.py',\n",
    "    conn_id='spark_conn',\n",
    "    verbose=True\n",
    ")"
   ]
  },
  {
   "cell_type": "code",
   "execution_count": null,
   "id": "b78b81c0",
   "metadata": {},
   "outputs": [],
   "source": [
    "var"
   ]
  }
 ],
 "metadata": {
  "kernelspec": {
   "display_name": "Python 3 (ipykernel)",
   "language": "python",
   "name": "python3"
  },
  "language_info": {
   "codemirror_mode": {
    "name": "ipython",
    "version": 3
   },
   "file_extension": ".py",
   "mimetype": "text/x-python",
   "name": "python",
   "nbconvert_exporter": "python",
   "pygments_lexer": "ipython3",
   "version": "3.9.2"
  }
 },
 "nbformat": 4,
 "nbformat_minor": 5
}
